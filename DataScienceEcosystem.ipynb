{
 "cells": [
  {
   "cell_type": "markdown",
   "id": "2afa6bcd-9778-40d9-bbe5-588fb717171f",
   "metadata": {},
   "source": [
    "# Data Science Tools and Ecosystem"
   ]
  },
  {
   "cell_type": "markdown",
   "id": "d9d695a1-c7c1-4b69-85c4-db48067b8c08",
   "metadata": {},
   "source": [
    "En este cuaderno, se resumen las herramientas y ecosistemas de ciencia de datos."
   ]
  },
  {
   "cell_type": "markdown",
   "id": "0dd6a2b7-1933-4625-8830-915cef3a4188",
   "metadata": {},
   "source": [
    "**Objetivos:**\n",
    "\n",
    "- Listar los lenguajes populares para la Ciencia de Datos.\n",
    "- Identificar las bibliotecas comúnmente utilizadas en la Ciencia de Datos.\n",
    "- Explicar las principales herramientas de desarrollo utilizadas en la Ciencia de Datos.\n"
   ]
  },
  {
   "cell_type": "markdown",
   "id": "d1e7f476-71f0-4a0a-bd90-8e84f289fa17",
   "metadata": {},
   "source": [
    "Algunos de los lenguajes populares que utilizan los científicos de datos son:\n",
    "\n",
    "1. Python\n",
    "2. R\n",
    "3. SQL\n",
    "4. Julia\n",
    "5. Scala\n"
   ]
  },
  {
   "attachments": {},
   "cell_type": "markdown",
   "id": "ebb4f474-ab34-47ec-8dc7-489c737161f6",
   "metadata": {},
   "source": [
    "Algunas de las bibliotecas comúnmente utilizadas por los científicos de datos incluyen:\n",
    "\n",
    "1. NumPy\n",
    "2. Pandas\n",
    "3. Matplotlib\n",
    "4. Scikit-learn\n",
    "5. TensorFlow\n",
    "6. Keras\n"
   ]
  },
  {
   "cell_type": "markdown",
   "id": "80a3ee5f-e7f5-48e6-b896-fa4a0e8c3f91",
   "metadata": {},
   "source": [
    "|**Herramientas de Ciencia de Datos**  |\n",
    "|--------------------------------------|\n",
    "| Jupyter Notebook                     |\n",
    "| RStudio                              |\n",
    "| Spyder                               |\n"
   ]
  },
  {
   "cell_type": "markdown",
   "id": "cb461fdd-c228-4321-a6c3-23e994477abd",
   "metadata": {},
   "source": [
    "### A continuación, se presentan algunos ejemplos de evaluación de expresiones aritméticas en Python\n",
    "\n",
    "- **Suma**: `3 + 5 = 8`\n",
    "- **Resta**: `10 - 4 = 6`\n",
    "- **Multiplicación**: `7 * 3 = 21`\n",
    "- **División**: `20 / 4 = 5`\n",
    "- **Exponente**: `2 ** 3 = 8`"
   ]
  },
  {
   "cell_type": "code",
   "execution_count": 4,
   "id": "888cec38-3ff0-428b-b59b-4d7d2adfb8fa",
   "metadata": {},
   "outputs": [
    {
     "data": {
      "text/plain": [
       "17"
      ]
     },
     "execution_count": 4,
     "metadata": {},
     "output_type": "execute_result"
    }
   ],
   "source": [
    "# Esta es una expresión aritmética simple para multiplicar y luego sumar enteros\n",
    "(3 * 4) + 5\n"
   ]
  },
  {
   "cell_type": "code",
   "execution_count": 5,
   "id": "8e52026e-71fd-4984-a9bf-d2cce77c3cf3",
   "metadata": {},
   "outputs": [
    {
     "data": {
      "text/plain": [
       "3.3333333333333335"
      ]
     },
     "execution_count": 5,
     "metadata": {},
     "output_type": "execute_result"
    }
   ],
   "source": [
    "# Esto convertirá 200 minutos a horas dividiendo por 60\n",
    "200 / 60\n"
   ]
  },
  {
   "cell_type": "markdown",
   "id": "ec8332ab-43bf-4e5a-b3ef-1b93133f5cc4",
   "metadata": {},
   "source": [
    "## Autor\n",
    "\n",
    "Rodrigo Bourdette"
   ]
  },
  {
   "cell_type": "code",
   "execution_count": null,
   "id": "5090f74f-090a-4fa0-bd42-24ee859b830b",
   "metadata": {},
   "outputs": [],
   "source": []
  }
 ],
 "metadata": {
  "kernelspec": {
   "display_name": "Python 3 (ipykernel)",
   "language": "python",
   "name": "python3"
  },
  "language_info": {
   "codemirror_mode": {
    "name": "ipython",
    "version": 3
   },
   "file_extension": ".py",
   "mimetype": "text/x-python",
   "name": "python",
   "nbconvert_exporter": "python",
   "pygments_lexer": "ipython3",
   "version": "3.13.0"
  }
 },
 "nbformat": 4,
 "nbformat_minor": 5
}
